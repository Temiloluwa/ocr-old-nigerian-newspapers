{
  "cells": [
    {
      "cell_type": "code",
      "execution_count": 1,
      "metadata": {
        "colab": {
          "base_uri": "https://localhost:8080/"
        },
        "id": "VNEI-nacF2OA",
        "outputId": "2be37746-afd9-4528-b85a-7a51fa0b2169"
      },
      "outputs": [
        {
          "name": "stdout",
          "output_type": "stream",
          "text": [
            "[sudo] password for temmie: \n"
          ]
        }
      ],
      "source": [
        "!sudo apt install tesseract-ocr"
      ]
    },
    {
      "cell_type": "code",
      "execution_count": null,
      "metadata": {
        "colab": {
          "base_uri": "https://localhost:8080/"
        },
        "id": "PH571d3osJCE",
        "outputId": "ee09f967-2fff-4e67-c48b-2c6c5841dc8b"
      },
      "outputs": [
        {
          "name": "stdout",
          "output_type": "stream",
          "text": [
            "Requirement already satisfied: pytesseract in /usr/local/lib/python3.10/dist-packages (0.3.10)\n",
            "Requirement already satisfied: packaging>=21.3 in /usr/local/lib/python3.10/dist-packages (from pytesseract) (23.2)\n",
            "Requirement already satisfied: Pillow>=8.0.0 in /usr/local/lib/python3.10/dist-packages (from pytesseract) (9.4.0)\n"
          ]
        }
      ],
      "source": [
        "!pip install pytesseract"
      ]
    },
    {
      "cell_type": "code",
      "execution_count": null,
      "metadata": {
        "id": "bdvb-80CFedR"
      },
      "outputs": [],
      "source": [
        "import pytesseract\n",
        "import cv2"
      ]
    },
    {
      "cell_type": "code",
      "execution_count": null,
      "metadata": {
        "id": "4uc1n1PnsI8G"
      },
      "outputs": [],
      "source": [
        "image = cv2.imread(\"/content/PM News December 2_1994_Pg 1.jpg\")"
      ]
    },
    {
      "cell_type": "code",
      "execution_count": null,
      "metadata": {
        "colab": {
          "base_uri": "https://localhost:8080/"
        },
        "id": "gf-gfOJGsI4t",
        "outputId": "1db257b4-37c0-47b3-ce61-45fb951b0ded"
      },
      "outputs": [
        {
          "name": "stdout",
          "output_type": "stream",
          "text": [
            "  \n",
            " \n",
            "  \n",
            "   \n",
            " \n",
            " \n",
            " \n",
            "     \n",
            "\n",
            "’ ie Mysterious escape of a Nigerian drug\n",
            "Po ker from a Thai prison has landed ten\n",
            "es lice officers and a colonel.in trouble. And\n",
            "*all because of Egunje, the notorious Nige-\n",
            "\n",
            "pat Way of compromising officials.\n",
            "\n",
            "eo ten Thai policemen are under investiga-\n",
            "a allegedly aiding the detained Nigerian\n",
            "\n",
            "icker to escape to another count\n",
            "p'sterday, S ud\n",
            "\n",
            "ta, Chibo Briyume, also identified as Abdul\n",
            "| Vine, fled detention at the Immigration\n",
            "\n",
            " \n",
            "   \n",
            "\n",
            "rs\n",
            "\n",
            " \n",
            "\n",
            "NEWS\n",
            "\n",
            "1VOL 1 NO. 74 FRIDAY 2 DECEMBER, 1994 N10\n",
            "\n",
            "EGUNJE D\n",
            "10 COPS IN\n",
            "ROUBLE\n",
            "\n",
            "As Drug Suspect Flees\n",
            "\n",
            " \n",
            "\n",
            "police division this week after swapping his\n",
            "passport for that of another inmate for $00 baht\n",
            "[20 dollars].\n",
            "\n",
            "He was believed to have been subsequently\n",
            "smuggled out of the country by air, the police\n",
            "officials said this morning.\n",
            "\n",
            "The ten officers under investigation by a\n",
            "special police committee have not been named.\n",
            "But The Nation daily reported that Briyume,\n",
            "\n",
            "Continued on page 2\n",
            "\n",
            "  \n",
            "   \n",
            "\n",
            ")\n",
            "\n",
            "a\n",
            "ee On Ajudua\n",
            "Alex Oni\n",
            "\n",
            "Human rights crusader, Chief\n",
            "Gani Fawehinmi, has taken over\n",
            "the prosecution cf a $437,000\n",
            "about N32 million advance fee\n",
            "fraud case, otherwise known\n",
            "as, ‘419’, a German-based\n",
            "widow, Mrs. Frieda Springer-\n",
            "Beck filed against Lagos lawyer,\n",
            "Chief Fred Ajudua.\n",
            "\n",
            "Mrs. Springer-Beck alleged that\n",
            "\n",
            " \n",
            "\n",
            " \n",
            "\n",
            "RAMA\n",
            "\n",
            "Fawehinmi Takes\n",
            "\n",
            "she-paid the said sum to Ajudua,\n",
            "for “a consideration that has wholly\n",
            "failed.” -_\n",
            "\n",
            "She is also asking for “recovery\n",
            "expenses and cost of five trips she\n",
            "made to Nigeria from Germany,”\n",
            "including hotel expenses and in-\n",
            "terest at the rate of 30 per cent\n",
            "from 26 March, 1993 until final\n",
            "payment.\n",
            "\n",
            "She claimed in her affidavit in\n",
            "support of the motion that some\n",
            "“associates” of Ajudua contacted\n",
            "her in January 1993, saying that\n",
            "\n",
            "Continued on page 2\n",
            "\n",
            "   \n",
            "   \n",
            "\n",
            "eee\n",
            "An aerial view of the Italian cruise ship, the Achille Lauro, on fire in the\n",
            "\n",
            "Indian ocean off the coast of Somalia taken froma US Navy helicopter\n",
            "\n",
            "last Wednesday.\n",
            "\n",
            "The fire continued to burn yesterday, but Passengers\n",
            "\n",
            "were rescued from life boats by ships in the area. Several people are\n",
            "\n",
            "reported to have died. AFP PHOTO.\n",
            "\n",
            "Lagos VIPs\n",
            "4 Shun Saleh\n",
            "\n",
            "to cover the ill-fated seminar\n",
            "bankrolled by the authorities in\n",
            "\n",
            "Charles Owoeye\n",
            "\n",
            "Secretary to the ruling military junta, Al-\n",
            "haji Aminu Saleh, was snubbed by the very\n",
            "important people of Lagos yesterday.\n",
            "\n",
            "The seminar on Chemical Weapons Conven-\n",
            "tion arid the Chemical and Allied Industries\n",
            "which he was billed to declare open was\n",
            "poorly attended.\n",
            "\n",
            "There were fewer than 30 guests present at\n",
            "the opening, at the auditorium of the Ikeja\n",
            "Complex of the Manufacturers Association of\n",
            "Nigeria. The auditorium could seat 700 people.\n",
            "\n",
            "The opening cereniony which was broad-\n",
            "cast live on Ray Power*Radio was go\n",
            "attended that the master of -ce\n",
            "\n",
            "   \n",
            "\n",
            "the presence of juni\n",
            "\n",
            " \n",
            "\n",
            "Continued on page 2\n",
            "Visit\n",
            "SANYA GJIKUTU\n",
            "| ART\n",
            "\n",
            "joo eee ee\n",
            "Exhibitio\n",
            "\n",
            "    \n",
            "\n",
            "|\n",
            "\n",
            " \n",
            "\f\n"
          ]
        }
      ],
      "source": [
        "img_rgb = cv2.cvtColor(image, cv2.COLOR_BGR2RGB)\n",
        "print(pytesseract.image_to_string(img_rgb))"
      ]
    },
    {
      "cell_type": "code",
      "execution_count": null,
      "metadata": {
        "id": "UPVsAKy1sI01"
      },
      "outputs": [],
      "source": []
    }
  ],
  "metadata": {
    "colab": {
      "provenance": []
    },
    "kernelspec": {
      "display_name": "Python 3",
      "name": "python3"
    },
    "language_info": {
      "codemirror_mode": {
        "name": "ipython",
        "version": 3
      },
      "file_extension": ".py",
      "mimetype": "text/x-python",
      "name": "python",
      "nbconvert_exporter": "python",
      "pygments_lexer": "ipython3",
      "version": "3.10.12"
    }
  },
  "nbformat": 4,
  "nbformat_minor": 0
}
