{
  "nbformat": 4,
  "nbformat_minor": 0,
  "metadata": {
    "colab": {
      "provenance": []
    },
    "kernelspec": {
      "name": "python3",
      "display_name": "Python 3"
    },
    "language_info": {
      "name": "python"
    }
  },
  "cells": [
    {
      "cell_type": "code",
      "execution_count": 2,
      "metadata": {
        "colab": {
          "base_uri": "https://localhost:8080/"
        },
        "id": "uxgeJBlTnHGV",
        "outputId": "52c05aa1-5788-4eb5-d8e7-fc639a09c37b"
      },
      "outputs": [
        {
          "output_type": "stream",
          "name": "stdout",
          "text": [
            "Collecting jiwer\n",
            "  Downloading jiwer-3.0.3-py3-none-any.whl (21 kB)\n",
            "Requirement already satisfied: click<9.0.0,>=8.1.3 in /usr/local/lib/python3.10/dist-packages (from jiwer) (8.1.7)\n",
            "Collecting rapidfuzz<4,>=3 (from jiwer)\n",
            "  Downloading rapidfuzz-3.5.2-cp310-cp310-manylinux_2_17_x86_64.manylinux2014_x86_64.whl (3.3 MB)\n",
            "\u001b[2K     \u001b[90m━━━━━━━━━━━━━━━━━━━━━━━━━━━━━━━━━━━━━━━━\u001b[0m \u001b[32m3.3/3.3 MB\u001b[0m \u001b[31m8.7 MB/s\u001b[0m eta \u001b[36m0:00:00\u001b[0m\n",
            "\u001b[?25hInstalling collected packages: rapidfuzz, jiwer\n",
            "Successfully installed jiwer-3.0.3 rapidfuzz-3.5.2\n"
          ]
        }
      ],
      "source": [
        "!pip install jiwer"
      ]
    },
    {
      "cell_type": "code",
      "source": [
        "import cv2\n",
        "from jiwer import wer\n"
      ],
      "metadata": {
        "id": "yFo88VlUnNa6"
      },
      "execution_count": 16,
      "outputs": []
    },
    {
      "cell_type": "markdown",
      "source": [
        "## Preprocess Image"
      ],
      "metadata": {
        "id": "iXyP8OVznXaG"
      }
    },
    {
      "cell_type": "code",
      "source": [
        "def preprocess_image_for_ocr(image_path,\n",
        "                              output_path_original,\n",
        "                              output_path_preprocessed,\n",
        "                              clip_limit=2.0,\n",
        "                              tile_grid_size=(4, 4)):\n",
        "    # Read the image in grayscale\n",
        "    img = cv2.imread(image_path, cv2.IMREAD_GRAYSCALE)\n",
        "\n",
        "    # Create a CLAHE object\n",
        "    clahe = cv2.createCLAHE(clipLimit=clip_limit, tileGridSize=tile_grid_size)\n",
        "\n",
        "    # Apply CLAHE to the image\n",
        "    result = clahe.apply(img)\n",
        "\n",
        "    # Apply Otsu's thresholding\n",
        "    _, result = cv2.threshold(result, 0, 255, cv2.THRESH_OTSU)\n",
        "\n",
        "    # Save the original image\n",
        "    cv2.imwrite(output_path_original, img, [int(cv2.IMWRITE_JPEG_QUALITY), 100])\n",
        "\n",
        "    # Save the thresholded image\n",
        "    cv2.imwrite(output_path_preprocessed, result, [int(cv2.IMWRITE_JPEG_QUALITY), 100])\n",
        "\n",
        "    print(\"Done!\")\n",
        "\n",
        "\n",
        "# Example usage\n",
        "preprocess_image_for_ocr('/content/PM News December 1_1994_Pg 3.tif',\n",
        "                         'original_image.jpg', 'preprocessed_image.jpg')"
      ],
      "metadata": {
        "colab": {
          "base_uri": "https://localhost:8080/"
        },
        "id": "FD_uJrTqnWPW",
        "outputId": "14c469ab-247a-440a-ded1-4be99418232f"
      },
      "execution_count": 33,
      "outputs": [
        {
          "output_type": "stream",
          "name": "stdout",
          "text": [
            "Done!\n"
          ]
        }
      ]
    },
    {
      "cell_type": "code",
      "source": [
        "ocr_output = {\n",
        "    \"text_1\": {\n",
        "        \"original\": \"'Between myself and Junior, the Issue of \"\"moving the nation forward,\"\" onesubject that the mill- tary seems to have permanently decreed as top on the national agenda, produced yet a stalemate about a week ago. But by the evening of Tuesday, 29 November, many thanks to the protagonists of the Beere solution, we had reached a consensus that some seemingly lanocuous undertakings of our supposed have the potency of turning us to a people eternally under siege. And for this reason,\",\n",
        "        \"preprocessed\": \"'Between myself and Junior, the issue of \"\"moving the nation forward,\"\" 'one esubject that the mill- tary seems to have permanently decreed as top on the national agenda, produced yet a stalemate about a week ago. But by the evening of Tues day, 29 November, many thanks to the protagonists of the Beere solution, reached a consensus that some seemingly immocuous undertakings of our supposed leaders have the potency of turning us to a people eternally under siege. And for this reason,\",\n",
        "        \"ground_truth\": \"'Between myself and Junior, the issue of \"\"moving the nation forward,\"\"  one subject that the milltary seems to have permanently decreed as top on the national agenda, produced yet a stalemate about a week ago. But by the evening of Tuesday, 29 November, many thanks to the protagonists of the Beere solution, we had reached a consensus that some seemingly innocuous undertakings of our supposed leaders have the potency of turning us to a people eternally under siege. And for this reason,\"\n",
        "    },\n",
        "\n",
        "    \"text_2\": {\n",
        "        \"original\":\"'ever wants to face. What I mean? It is not every pen pusher that will like to be an Alex Kabba, who seems to now spend more time in General Sani Abacha's detention camp than on the beat, reporting.\",\n",
        "        \"preprocessed\": \"'ever wants to face. What I mean? It is not every pen pusher that will like to be an Alex Kabba, who seems to now spend more time in General Sani Abacha's detention camp than on the beat, reporting.\",\n",
        "        \"ground_truth\": \"'ever wants to face. What I mean? It is not every pen pusher that will like to be an Alex Kabba, who seems to now spend more time in General Sani Abacha's detention camp than on the beat, reporting.\"\n",
        "    }\n",
        "}"
      ],
      "metadata": {
        "id": "11jJ29POnOG8"
      },
      "execution_count": 30,
      "outputs": []
    },
    {
      "cell_type": "code",
      "source": [
        "text = f\"text_{2}\"\n",
        "reference = ocr_output[text][\"ground_truth\"]\n",
        "hypothesis_p = ocr_output[text][\"preprocessed\"]\n",
        "hypothesis_o = ocr_output[text][\"original\"]\n",
        "wer(reference, hypothesis_p), wer(reference, hypothesis_o)"
      ],
      "metadata": {
        "colab": {
          "base_uri": "https://localhost:8080/"
        },
        "id": "Vq_Q_Cs2p0sq",
        "outputId": "f7210e0e-c431-4103-ed12-b758d513b4cc"
      },
      "execution_count": 13,
      "outputs": [
        {
          "output_type": "execute_result",
          "data": {
            "text/plain": [
              "(0.0, 0.0)"
            ]
          },
          "metadata": {},
          "execution_count": 13
        }
      ]
    },
    {
      "cell_type": "code",
      "source": [],
      "metadata": {
        "colab": {
          "base_uri": "https://localhost:8080/"
        },
        "id": "_z4Bug-EqH85",
        "outputId": "05cfae43-9bb6-4ed5-d140-58282db3a9b0"
      },
      "execution_count": 6,
      "outputs": [
        {
          "output_type": "execute_result",
          "data": {
            "text/plain": [
              "0.08536585365853659"
            ]
          },
          "metadata": {},
          "execution_count": 6
        }
      ]
    },
    {
      "cell_type": "code",
      "source": [],
      "metadata": {
        "id": "U5RSZBqEqKzO"
      },
      "execution_count": null,
      "outputs": []
    }
  ]
}