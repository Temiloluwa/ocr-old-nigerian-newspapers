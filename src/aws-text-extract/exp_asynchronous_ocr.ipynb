{
 "cells": [
  {
   "cell_type": "code",
   "execution_count": 20,
   "metadata": {},
   "outputs": [
    {
     "data": {
      "text/plain": [
       "True"
      ]
     },
     "execution_count": 20,
     "metadata": {},
     "output_type": "execute_result"
    }
   ],
   "source": [
    "import os\n",
    "import boto3\n",
    "import logging\n",
    "from dotenv import load_dotenv\n",
    "\n",
    "# load aws credentials\n",
    "load_dotenv()"
   ]
  },
  {
   "cell_type": "markdown",
   "metadata": {},
   "source": [
    "# Setup Logger"
   ]
  },
  {
   "cell_type": "code",
   "execution_count": 21,
   "metadata": {},
   "outputs": [],
   "source": [
    "def setup_logger(logger_name, log_file_path, log_level=logging.DEBUG):\n",
    "    # Create a logger with the specified name\n",
    "    logger = logging.getLogger(logger_name)\n",
    "    logger.setLevel(log_level) \n",
    "\n",
    "    formatter = logging.Formatter('%(asctime)s - %(name)s - %(levelname)s - %(message)s')\n",
    "    file_handler = logging.FileHandler(log_file_path)\n",
    "    file_handler.setFormatter(formatter)\n",
    "\n",
    "    # Create a stream handler (console) and set the formatter\n",
    "    console_handler = logging.StreamHandler()\n",
    "    console_handler.setFormatter(formatter)\n",
    "\n",
    "    logger.addHandler(file_handler)\n",
    "    logger.addHandler(console_handler)\n",
    "\n",
    "    return logger\n",
    "\n",
    "\n",
    "logger_name = 'ocr_logger'\n",
    "log_file_path = 'ocr_logger.log'\n",
    "logger = setup_logger(logger_name, log_file_path)"
   ]
  },
  {
   "cell_type": "markdown",
   "metadata": {},
   "source": [
    "# Create SQS Queue and SNS Topic\n",
    "\n",
    "## [Configure SNS Role](https://docs.aws.amazon.com/textract/latest/dg/api-async-roles.html)"
   ]
  },
  {
   "cell_type": "code",
   "execution_count": 74,
   "metadata": {},
   "outputs": [],
   "source": [
    "class TextExtractor:\n",
    "    \"\"\" OCR with Text Extract.\"\"\"\n",
    "\n",
    "    def __init__(self):\n",
    "        \"\"\"\n",
    "        :param sns_client: A Boto3 Amazon SNS resource.\n",
    "        \"\"\"\n",
    "        aws_access_key_id = os.getenv(\"AWS_ACCESS_KEY_ID\")\n",
    "        aws_secret_access_key = os.getenv(\"AWS_SECRET_ACCESS_KEY\")\n",
    "        self.sns_client = boto3.client('sns', aws_access_key_id=aws_access_key_id, aws_secret_access_key=aws_secret_access_key)\n",
    "        self.sqs_client = boto3.client('sqs', aws_access_key_id=aws_access_key_id, aws_secret_access_key=aws_secret_access_key)\n",
    "        self.textract_client = boto3.client('textract', aws_access_key_id=aws_access_key_id, aws_secret_access_key=aws_secret_access_key)\n",
    "\n",
    "\n",
    "    def delete_topic(self, topic_arn: str):\n",
    "        \"\"\"\n",
    "        Deletes a topic. All subscriptions to the topic are also deleted.\n",
    "        \"\"\"\n",
    "        try:\n",
    "            _ = self.sns_client.delete_topic(TopicArn=topic_arn)\n",
    "            logger.info(f\"Deleted topic {topic_arn}\")\n",
    "        except Exception as e:\n",
    "            logger.exception(f\"Couldn't delete topic {topic_arn}, {e}\")\n",
    "            raise\n",
    "\n",
    "\n",
    "    def create_topic(self, name):\n",
    "        \"\"\"\n",
    "        Creates a notification topic.\n",
    "\n",
    "        :param name: The name of the topic to create.\n",
    "        :return: The newly created topic.\n",
    "        \"\"\"\n",
    "        try:\n",
    "            topic = self.sns_client.create_topic(Name=name)\n",
    "            topic_arn = topic[\"TopicArn\"]\n",
    "            logger.info(f\"Created topic {name}  with ARN {topic_arn}.\")\n",
    "            return topic_arn\n",
    "\n",
    "        except Exception as e:\n",
    "            logger.exception(f\"Couldn't create topic {name}, {e}\")\n",
    "            raise\n",
    "\n",
    "\n",
    "    def delete_queue(self, queue_url: str):\n",
    "        \"\"\"\n",
    "        Removes an SQS queue. When run against an AWS account, it can take up to\n",
    "        60 seconds before the queue is actually deleted.\n",
    "\n",
    "        :param queue: The queue to delete.\n",
    "        :return: None\n",
    "        \"\"\"\n",
    "        try:\n",
    "            _ = self.sqs_client.delete_queue(QueueUrl=queue_url)\n",
    "            logger.info(f\"Deleted queue with URL={queue_url}\")\n",
    "        except Exception as e:\n",
    "            logger.exception(f\"Couldn't delete queue with URL {queue_url}!, {e}\")\n",
    "            \n",
    "            raise \n",
    "\n",
    "\n",
    "    def create_queue(self, name: str, attributes:dict ={\n",
    "            \"DelaySeconds\": \"3\",\n",
    "            \"VisibilityTimeout\": \"60\" \n",
    "        }):\n",
    "        \"\"\"\n",
    "        Creates an Amazon SQS queue.\n",
    "\n",
    "        :param name: The name of the queue. This is part of the URL assigned to the queue.\n",
    "        :param attributes: The attributes of the queue, such as maximum message size or\n",
    "                        whether it's a FIFO queue.\n",
    "        :return: A Queue object that contains metadata about the queue and that can be used\n",
    "                to perform queue operations like sending and receiving messages.\n",
    "        \"\"\"\n",
    "        if not attributes:\n",
    "            attributes = {}\n",
    "\n",
    "        try:\n",
    "            queue = self.sqs_client.create_queue(QueueName=name, Attributes=attributes)\n",
    "            queue_url = queue['QueueUrl']\n",
    "            logger.info(f\"Created queue {name} with URL {queue_url}\")\n",
    "            return queue_url\n",
    "\n",
    "        except Exception as e:\n",
    "            logger.exception(f\"Couldn't create queue named {name}, {e}\")\n",
    "            raise\n",
    "\n",
    "\n",
    "    def start_analysis_job(\n",
    "        self,\n",
    "        bucket_name: str,\n",
    "        s3_input_prefix: str,\n",
    "        s3_output_prefix: str,\n",
    "        sns_topic_arn: str,\n",
    "        sns_role_arn: str,\n",
    "        feature_types: list):\n",
    "        \"\"\"\n",
    "        Starts an asynchronous job to detect text and additional elements, such as\n",
    "        forms or tables, in an image stored in an Amazon S3 bucket. Textract publishes\n",
    "        a notification to the specified Amazon SNS topic when the job completes.\n",
    "        The image must be in PNG, JPG, or PDF format.\n",
    "\n",
    "        :param bucket_name: The name of the Amazon S3 bucket that contains the image.\n",
    "        :param s3_input_prefix: The name of the document image stored in Amazon S3.\n",
    "        :param feature_types: The types of additional document features to detect.\n",
    "        :param sns_topic_arn: The Amazon Resource Name (ARN) of an Amazon SNS topic\n",
    "                              where job completion notification is published.\n",
    "        :param sns_role_arn: The ARN of an AWS Identity and Access Management (IAM)\n",
    "                             role that can be assumed by Textract and grants permission\n",
    "                             to publish to the Amazon SNS topic.\n",
    "        :return: The ID of the job.\n",
    "        \"\"\"\n",
    "        try:\n",
    "            response = self.textract_client.start_document_analysis(\n",
    "                DocumentLocation={\n",
    "                    \"S3Object\": {\"Bucket\": bucket_name, \"Name\": s3_input_prefix}\n",
    "                },\n",
    "                NotificationChannel={\n",
    "                    \"SNSTopicArn\": sns_topic_arn,\n",
    "                    \"RoleArn\": sns_role_arn,\n",
    "                },\n",
    "                FeatureTypes=feature_types,\n",
    "                OutputConfig={'S3Bucket': bucket_name, 'S3Prefix': s3_output_prefix}\n",
    "            )\n",
    "            job_id = response[\"JobId\"]\n",
    "            logger.info(\n",
    "                \"Started text analysis job {} on {}.\".format(job_id, s3_input_prefix)\n",
    "            )\n",
    "            return job_id\n",
    "        except Exception as e:\n",
    "            logger.exception(\"Couldn't analyze text in {}, {}\".format(s3_input_prefix, e))\n",
    "            raise\n"
   ]
  },
  {
   "cell_type": "code",
   "execution_count": 75,
   "metadata": {},
   "outputs": [
    {
     "name": "stderr",
     "output_type": "stream",
     "text": [
      "2023-12-24 15:41:50,051 - ocr_logger - INFO - Created topic newspaper-ocr  with ARN arn:aws:sns:us-east-1:222311789433:newspaper-ocr.\n",
      "2023-12-24 15:41:50,051 - ocr_logger - INFO - Created topic newspaper-ocr  with ARN arn:aws:sns:us-east-1:222311789433:newspaper-ocr.\n",
      "2023-12-24 15:41:50,319 - ocr_logger - INFO - Created queue newspaper-ocr with URL https://sqs.us-east-1.amazonaws.com/222311789433/newspaper-ocr\n",
      "2023-12-24 15:41:50,319 - ocr_logger - INFO - Created queue newspaper-ocr with URL https://sqs.us-east-1.amazonaws.com/222311789433/newspaper-ocr\n"
     ]
    }
   ],
   "source": [
    "name = \"newspaper-ocr\"\n",
    "sns_and_sqs_controller = TextExtractor()\n",
    "topic_arn = sns_and_sqs_controller.create_topic(name)\n",
    "queue_url = sns_and_sqs_controller.create_queue(name)"
   ]
  },
  {
   "cell_type": "code",
   "execution_count": 77,
   "metadata": {},
   "outputs": [
    {
     "name": "stderr",
     "output_type": "stream",
     "text": [
      "2023-12-24 15:43:44,374 - ocr_logger - INFO - Started text detection job 109915d48661e7488bdbd25d34b59e17d191fa688fc5973d71aa4b29d83c7097 on projects/newspaper-ocr/aws_text_extract/demo_imgs/demo_preprocessed_image.jpg.\n",
      "2023-12-24 15:43:44,374 - ocr_logger - INFO - Started text detection job 109915d48661e7488bdbd25d34b59e17d191fa688fc5973d71aa4b29d83c7097 on projects/newspaper-ocr/aws_text_extract/demo_imgs/demo_preprocessed_image.jpg.\n"
     ]
    }
   ],
   "source": [
    "job_id = sns_and_sqs_controller.start_analysis_job(\n",
    "    bucket_name = \"hifeyinc-cluster\",\n",
    "    s3_input_prefix = \"projects/newspaper-ocr/aws_text_extract/demo_imgs/demo_preprocessed_image.jpg\",\n",
    "    s3_output_prefix = \"projects/newspaper-ocr/aws_text_extract/demo_imgs_output\",\n",
    "    sns_topic_arn = \"arn:aws:sns:us-east-1:222311789433:newspaper-ocr\",\n",
    "    sns_role_arn = \"arn:aws:iam::222311789433:role/TextExtractSNSPublishRole\",\n",
    "    feature_types = [\"LAYOUT\"]   \n",
    ")"
   ]
  },
  {
   "cell_type": "code",
   "execution_count": 79,
   "metadata": {},
   "outputs": [
    {
     "name": "stderr",
     "output_type": "stream",
     "text": [
      "2023-12-24 15:57:19,128 - ocr_logger - INFO - Deleted queue with URL=https://sqs.us-east-1.amazonaws.com/222311789433/newspaper-ocr\n",
      "2023-12-24 15:57:19,128 - ocr_logger - INFO - Deleted queue with URL=https://sqs.us-east-1.amazonaws.com/222311789433/newspaper-ocr\n",
      "2023-12-24 15:57:19,496 - ocr_logger - INFO - Deleted topic arn:aws:sns:us-east-1:222311789433:newspaper-ocr\n",
      "2023-12-24 15:57:19,496 - ocr_logger - INFO - Deleted topic arn:aws:sns:us-east-1:222311789433:newspaper-ocr\n"
     ]
    }
   ],
   "source": [
    "sns_and_sqs_controller.delete_queue(queue_url)\n",
    "sns_and_sqs_controller.delete_topic(topic_arn)"
   ]
  },
  {
   "cell_type": "code",
   "execution_count": null,
   "metadata": {},
   "outputs": [],
   "source": []
  }
 ],
 "metadata": {
  "kernelspec": {
   "display_name": "text-extract-env",
   "language": "python",
   "name": "python3"
  },
  "language_info": {
   "codemirror_mode": {
    "name": "ipython",
    "version": 3
   },
   "file_extension": ".py",
   "mimetype": "text/x-python",
   "name": "python",
   "nbconvert_exporter": "python",
   "pygments_lexer": "ipython3",
   "version": "3.11.6"
  }
 },
 "nbformat": 4,
 "nbformat_minor": 2
}
