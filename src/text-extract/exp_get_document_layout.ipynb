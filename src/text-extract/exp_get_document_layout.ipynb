{
 "cells": [
  {
   "cell_type": "code",
   "execution_count": null,
   "metadata": {},
   "outputs": [],
   "source": [
    "import boto3\n",
    "import io\n",
    "import pytesseract\n",
    "from PIL import Image, ImageDraw, ImageColor\n",
    "from typing import Tuple, Dict, List, Union"
   ]
  },
  {
   "cell_type": "markdown",
   "metadata": {},
   "source": [
    "# Get Document Layout"
   ]
  },
  {
   "cell_type": "code",
   "execution_count": 1,
   "metadata": {},
   "outputs": [],
   "source": [
    "def get_coordinates(box: Dict[str, float], width: int, height: int, extra_width: float = 0.005) -> Tuple[float, float, float, float]:\n",
    "    \"\"\"\n",
    "    Calculate coordinates (X1, Y1, X2, Y2) of a bounding box within an image.\n",
    "\n",
    "    Parameters:\n",
    "    - box (dict): A dictionary containing 'Left', 'Top', 'Width', and 'Height' values representing the bounding box.\n",
    "    - width (int): Width of the image.\n",
    "    - height (int): Height of the image.\n",
    "    - extra_width (float): Additional width to be considered for the bounding box.\n",
    "\n",
    "    Returns:\n",
    "    tuple: A tuple containing X1, Y1, X2, Y2 coordinates of the bounding box.\n",
    "    \"\"\"\n",
    "    X1 = width * (box['Left'] - extra_width)\n",
    "    Y1 = height * box['Top']\n",
    "    X2 = X1 + (width * (box['Width'] + 2 * extra_width))\n",
    "    Y2 = Y1 + (height * box['Height'])\n",
    "\n",
    "    return X1, Y1, X2, Y2\n",
    "\n",
    "\n",
    "def process_text_analysis(s3_connection, client, bucket: str, document: str, show_image: bool = True)\\\n",
    "             -> Dict[str, Union[str, List[Dict[str, Union[str, float, Tuple[float, float, float, float]]]]]]:\n",
    "    \"\"\"\n",
    "    Analyze the layout of a document, draw bounding boxes, and perform OCR on text blocks.\n",
    "\n",
    "    Parameters:\n",
    "    - s3_connection: The connection to the S3 service.\n",
    "    - client: The AWS Textract client.\n",
    "    - bucket (str): The S3 bucket containing the document.\n",
    "    - document (str): The name of the document.\n",
    "    - show_image (bool): Whether to display the image with bounding boxes.\n",
    "\n",
    "    Returns:\n",
    "    dict: A dictionary containing information about the processed document layout.\n",
    "    \"\"\"\n",
    "    layout_color_palette: Dict[str, Union[Tuple[int, int, int], str]] = {\n",
    "        \"LAYOUT_TITLE\": ImageColor.getrgb(\"#e41a1c\"),\n",
    "        \"LAYOUT_HEADER\": ImageColor.getrgb(\"#377eb8\"),\n",
    "        \"LAYOUT_FOOTER\": ImageColor.getrgb(\"#4daf4a\"),\n",
    "        \"LAYOUT_SECTION_HEADER\": ImageColor.getrgb(\"#984ea3\"),\n",
    "        \"LAYOUT_PAGE_NUMBER\": ImageColor.getrgb(\"#ff7f00\"),\n",
    "        \"LAYOUT_LIST\": ImageColor.getrgb(\"#ffff33\"),\n",
    "        \"LAYOUT_FIGURE\": ImageColor.getrgb(\"#a65628\"),\n",
    "        \"LAYOUT_TABLE\": ImageColor.getrgb(\"#f781bf\"),\n",
    "        \"LAYOUT_KEY_VALUE\": ImageColor.getrgb(\"#999999\"),\n",
    "        \"LAYOUT_TEXT\": \"yellow\"\n",
    "    }\n",
    "\n",
    "    # Get the document from S3\n",
    "    s3_object = s3_connection.Object(bucket, document)\n",
    "    s3_response = s3_object.get()\n",
    "\n",
    "    stream = io.BytesIO(s3_response['Body'].read())\n",
    "    image = Image.open(stream)\n",
    "\n",
    "    # Analyze the document\n",
    "    image_binary = stream.getvalue()\n",
    "    response = client.analyze_document(Document={'Bytes': image_binary}, FeatureTypes=[\"LAYOUT\"])\n",
    "\n",
    "    # Get the text blocks\n",
    "    blocks = response['Blocks']\n",
    "    width, height = image.size\n",
    "    \n",
    "    print('Detecting Document Layout')\n",
    "    layout_information: List[Dict[str, Union[str, float, Tuple[float, float, float, float]]]] = []\n",
    "\n",
    "    # Create image showing bounding box/polygon the detected lines/text\n",
    "    for block in blocks:\n",
    "        draw = ImageDraw.Draw(image)\n",
    "        block_type = block['BlockType']\n",
    "        block_color = layout_color_palette.get(block_type, None)\n",
    "        if block_color:\n",
    "            info = {}\n",
    "            img_coords = get_coordinates(block['Geometry']['BoundingBox'], width, height)\n",
    "\n",
    "            if show_image:\n",
    "                draw.rectangle(img_coords, outline=block_color, width=3)\n",
    "            info = {\n",
    "                \"id\": block['Id'],\n",
    "                \"layout_type\": block_type,\n",
    "                \"coordinates\": img_coords,\n",
    "                \"block_color\": block_color,\n",
    "                \"reading_order\": len(layout_information) + 1\n",
    "            }\n",
    "            layout_information.append(info)\n",
    "\n",
    "    # Display the image\n",
    "    if show_image:\n",
    "        image.show()\n",
    "\n",
    "    return {\"bucket\": bucket, \"document\": document, \"layout\": layout_information}\n"
   ]
  },
  {
   "cell_type": "code",
   "execution_count": 2,
   "metadata": {},
   "outputs": [
    {
     "name": "stdout",
     "output_type": "stream",
     "text": [
      "Detecting Document Layout\n"
     ]
    }
   ],
   "source": [
    "session = boto3.Session(profile_name='tobi')\n",
    "s3_connection = session.resource('s3')\n",
    "client = session.client('textract', region_name='us-east-1')\n",
    "bucket = 'hifeyinc-cluster'\n",
    "document = 'projects/newspaper-ocr/data/jpeg/december_1994/PM_News_December_16__1994_Pg_8.jpeg'\n",
    "docu_layout = process_text_analysis(s3_connection, client, bucket, document)"
   ]
  },
  {
   "cell_type": "code",
   "execution_count": 3,
   "metadata": {},
   "outputs": [
    {
     "data": {
      "text/plain": [
       "{'id': '0e55e44a-9d5c-41ab-a83c-3c3ecb76af81',\n",
       " 'layout_type': 'LAYOUT_TITLE',\n",
       " 'coordinates': (522.9276955270767,\n",
       "  102.64209349825978,\n",
       "  797.3626277750731,\n",
       "  285.9271633885801),\n",
       " 'block_color': (228, 26, 28),\n",
       " 'reading_order': 4}"
      ]
     },
     "execution_count": 3,
     "metadata": {},
     "output_type": "execute_result"
    }
   ],
   "source": [
    "docu_layout[\"layout\"][3]"
   ]
  },
  {
   "cell_type": "markdown",
   "metadata": {},
   "source": [
    "# Perform OCR"
   ]
  },
  {
   "cell_type": "code",
   "execution_count": 4,
   "metadata": {},
   "outputs": [],
   "source": [
    "def perform_ocr(img: Image.Image, img_coordinates: Tuple[float, float, float, float]) -> str:\n",
    "    \"\"\"\n",
    "    Perform Optical Character Recognition (OCR) on a cropped image.\n",
    "\n",
    "    Parameters:\n",
    "    - img (PIL.Image.Image): The input image.\n",
    "    - img_coordinates (tuple): A tuple containing the coordinates (X1, Y1, X2, Y2) of the cropped image.\n",
    "\n",
    "    Returns:\n",
    "    str: The OCR result as a string.\n",
    "    \"\"\"\n",
    "    # Crop the image section within the bounding box\n",
    "    cropped_image = img.crop(img_coordinates)\n",
    "\n",
    "    # Perform OCR using pytesseract\n",
    "    ocr_result = pytesseract.image_to_string(cropped_image)\n",
    "\n",
    "    return ocr_result"
   ]
  },
  {
   "cell_type": "code",
   "execution_count": null,
   "metadata": {},
   "outputs": [],
   "source": []
  }
 ],
 "metadata": {
  "kernelspec": {
   "display_name": "text-extract-env",
   "language": "python",
   "name": "python3"
  },
  "language_info": {
   "codemirror_mode": {
    "name": "ipython",
    "version": 3
   },
   "file_extension": ".py",
   "mimetype": "text/x-python",
   "name": "python",
   "nbconvert_exporter": "python",
   "pygments_lexer": "ipython3",
   "version": "3.11.3"
  }
 },
 "nbformat": 4,
 "nbformat_minor": 2
}
