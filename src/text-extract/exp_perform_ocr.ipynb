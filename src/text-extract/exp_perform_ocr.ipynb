{
 "cells": [
  {
   "cell_type": "code",
   "execution_count": null,
   "metadata": {},
   "outputs": [],
   "source": [
    "import pytesseract\n",
    "import json\n",
    "import os\n",
    "from PIL import Image, ImageDraw, ImageColor, ImageFont\n",
    "from typing import Tuple\n",
    "from IPython.display import display\n",
    "\n",
    "\n",
    "print(\"The working directory is: \", os.getcwd())\n",
    "print(\"Please adjust it to the root of the repository so that all the path links can work properly\")\n",
    "#os.chdir(\"/Users/t.adeoti/codes-and-scripts/projects/newspaper-ocr\")"
   ]
  },
  {
   "cell_type": "markdown",
   "metadata": {},
   "source": [
    "# Goal: Improve OCR performance\n",
    "\n",
    "- Image path: `data/jpg/december_1994`\n",
    "- Layout path: `layout/december_1994`\n",
    "\n",
    "You can explore:\n",
    "1. Using other libraries asides pytesseract for the OCR: the OCR is done using the line of code `pytesseract.image_to_string(cropped_image)`\n",
    "2. Improving the image quality before OCR: one has to research which image transformations improve OCR performance"
   ]
  },
  {
   "cell_type": "markdown",
   "metadata": {},
   "source": [
    "## Display Image with Layout"
   ]
  },
  {
   "cell_type": "code",
   "execution_count": null,
   "metadata": {},
   "outputs": [],
   "source": [
    "def load_json_file(file_path):\n",
    "    with open(file_path, 'r') as json_file:\n",
    "        data = json.load(json_file)\n",
    "    return data\n",
    "\n",
    "def draw_layout_rectangles(image, layout):\n",
    "    \n",
    "    layout_info = layout[\"layout\"]\n",
    "    draw = ImageDraw.Draw(image)\n",
    "\n",
    "\n",
    "    for block in layout_info:\n",
    "        coordinates = block['coordinates']\n",
    "        block_type = block['layout_type']\n",
    "        block_color = block['block_color']\n",
    "        reading_order = block['reading_order']\n",
    "\n",
    "        # Convert block color to RGB if it's a string color representation\n",
    "        if isinstance(block_color, str):\n",
    "            block_color = ImageColor.getrgb(block_color)\n",
    "\n",
    "        # Draw rectangle\n",
    "        draw.rectangle(coordinates, outline=tuple(block_color), width=3)\n",
    "\n",
    "        # Label the rectangle with layout information\n",
    "        label_position = (coordinates[0], coordinates[1] - 20) \n",
    "        draw.text(label_position, f\"{block_type}_{reading_order}\", fill=\"red\")\n",
    "\n",
    "    return image\n",
    "\n",
    "\n",
    "def get_image_and_layout(desired_image):\n",
    "    image_path = f\"data/jpg/december_1994/{desired_image}\"\n",
    "    layout_path = f\"layout/december_1994/{desired_image.replace('.jpeg', '_layout.json')}\"\n",
    "    image = Image.open(image_path)\n",
    "    layout = load_json_file(layout_path)\n",
    "\n",
    "    return image, layout"
   ]
  },
  {
   "cell_type": "markdown",
   "metadata": {},
   "source": [
    "## 1. Choose Image from the list of all Images"
   ]
  },
  {
   "cell_type": "code",
   "execution_count": null,
   "metadata": {},
   "outputs": [],
   "source": [
    "all_imgs_names = os.listdir(\"data/jpg/december_1994\")\n",
    "desired_image_index = int(input(f\"Image Selection: Choose a number between 0 and {len(all_imgs_names)}\"))\n",
    "desired_image = all_imgs_names[desired_image_index]\n",
    "image, layout = get_image_and_layout(desired_image)\n",
    "draw_layout_rectangles(image, layout)"
   ]
  },
  {
   "cell_type": "markdown",
   "metadata": {},
   "source": [
    "# Perform OCR"
   ]
  },
  {
   "cell_type": "code",
   "execution_count": null,
   "metadata": {},
   "outputs": [],
   "source": [
    "from PIL import Image\n",
    "import pytesseract\n",
    "from IPython.display import display\n",
    "from typing import Dict, Union\n",
    "\n",
    "def perform_ocr(img: Image.Image, layout: Dict[str, Union[str, list]], block_number: int) -> Dict[str, Union[str, int, str]]:\n",
    "    \"\"\"\n",
    "    Perform Optical Character Recognition (OCR) on a cropped image.\n",
    "\n",
    "    Parameters:\n",
    "    - img (PIL.Image.Image): The input image.\n",
    "    - layout (dict): Layout information for the document.\n",
    "    - block_number (int): The index of the block to process.\n",
    "\n",
    "    Returns:\n",
    "    dict: Dictionary containing OCR results and block information.\n",
    "    \"\"\"\n",
    "    layout_info = layout[\"layout\"]\n",
    "    block = layout_info[block_number]\n",
    "\n",
    "    coordinates = block['coordinates']\n",
    "    block_type = block['layout_type']\n",
    "    reading_order = block['reading_order']\n",
    "\n",
    "    # Crop the image section within the bounding box\n",
    "    cropped_image = img.crop(coordinates)\n",
    "\n",
    "    # Display the cropped image in Jupyter Notebook\n",
    "    display(cropped_image)\n",
    "\n",
    "    # Perform OCR using pytesseract\n",
    "    ocr_result = pytesseract.image_to_string(cropped_image)\n",
    "\n",
    "    return {\n",
    "        \"block_type\": block_type,\n",
    "        \"reading_order\": reading_order,\n",
    "        \"ocr_result\": ocr_result\n",
    "    }\n"
   ]
  },
  {
   "cell_type": "markdown",
   "metadata": {},
   "source": [
    "# 2. Choose the Block you want to Perform OCR for"
   ]
  },
  {
   "cell_type": "code",
   "execution_count": null,
   "metadata": {},
   "outputs": [],
   "source": [
    "block_number = int(input(f\"Block Selection: Choose a block number between 0 and {len(layout_info)} for OCR\")) # choose one of the blocks to perform OCR on\n",
    "\n",
    "perform_ocr(image, layout, block_number)"
   ]
  },
  {
   "cell_type": "code",
   "execution_count": null,
   "metadata": {},
   "outputs": [],
   "source": []
  }
 ],
 "metadata": {
  "kernelspec": {
   "display_name": "text-extract-env",
   "language": "python",
   "name": "python3"
  },
  "language_info": {
   "codemirror_mode": {
    "name": "ipython",
    "version": 3
   },
   "file_extension": ".py",
   "mimetype": "text/x-python",
   "name": "python",
   "nbconvert_exporter": "python",
   "pygments_lexer": "ipython3",
   "version": "3.11.6"
  }
 },
 "nbformat": 4,
 "nbformat_minor": 2
}
